{
  "nbformat": 4,
  "nbformat_minor": 0,
  "metadata": {
    "colab": {
      "provenance": [],
      "mount_file_id": "1un5HOrMr-chS9lCeqtVq45CipyIPMSl_",
      "authorship_tag": "ABX9TyPpvJMJO5ViQAlFwjJQbA3W",
      "include_colab_link": true
    },
    "kernelspec": {
      "name": "python3",
      "display_name": "Python 3"
    },
    "language_info": {
      "name": "python"
    }
  },
  "cells": [
    {
      "cell_type": "markdown",
      "metadata": {
        "id": "view-in-github",
        "colab_type": "text"
      },
      "source": [
        "<a href=\"https://colab.research.google.com/github/notjaswanth69/fs-1/blob/main/fs_1.ipynb\" target=\"_parent\"><img src=\"https://colab.research.google.com/assets/colab-badge.svg\" alt=\"Open In Colab\"/></a>"
      ]
    },
    {
      "cell_type": "code",
      "execution_count": 1,
      "metadata": {
        "colab": {
          "base_uri": "https://localhost:8080/"
        },
        "id": "tHowOYCZ7Ags",
        "outputId": "441fc065-9a27-48ee-aeb0-c2f90b0e2698"
      },
      "outputs": [
        {
          "output_type": "stream",
          "name": "stdout",
          "text": [
            "Percentage of Missing Values:\n",
            " Pregnancies                 14.453125\n",
            "Glucose                      0.651042\n",
            "BloodPressure                4.557292\n",
            "SkinThickness               29.557292\n",
            "Insulin                     48.697917\n",
            "BMI                          1.432292\n",
            "DiabetesPedigreeFunction     0.000000\n",
            "Age                          0.000000\n",
            "dtype: float64\n",
            "Number of Features after Filtering: 6\n",
            "Accuracy on Original Dataset: 0.7012987012987013\n",
            "Accuracy on Updated Dataset: 0.7056277056277056\n"
          ]
        }
      ],
      "source": [
        "import pandas as pd\n",
        "from sklearn.model_selection import train_test_split\n",
        "from sklearn.tree import DecisionTreeClassifier\n",
        "from sklearn.metrics import accuracy_score\n",
        "\n",
        "# Load the dataset\n",
        "data = pd.read_csv('/content/diabetes.csv')\n",
        "\n",
        "# Separate features and target variable\n",
        "X = data.drop(['Outcome'], axis=1)\n",
        "y = data['Outcome']\n",
        "\n",
        "# Check for missing values\n",
        "missing_values = X.eq(0).sum()\n",
        "percent_missing_value = (missing_values / len(X)) * 100\n",
        "\n",
        "# Print percentage of missing values\n",
        "print(\"Percentage of Missing Values:\\n\", percent_missing_value)\n",
        "\n",
        "# Filter out columns with more than 28% missing values\n",
        "final_data_columns = percent_missing_value[percent_missing_value <= 28]\n",
        "X_updated = X[final_data_columns.index]\n",
        "\n",
        "# Print the number of features after filtering\n",
        "print(\"Number of Features after Filtering:\", len(X_updated.columns))\n",
        "\n",
        "# Split the original data into training and testing sets\n",
        "X_train, X_test, y_train, y_test = train_test_split(X, y, test_size=0.3, random_state=42)\n",
        "\n",
        "# Initialize and train the Decision Tree model on the original dataset\n",
        "model = DecisionTreeClassifier(random_state=42)\n",
        "model.fit(X_train, y_train)\n",
        "\n",
        "# Make predictions and calculate accuracy on the original dataset\n",
        "y_pred = model.predict(X_test)\n",
        "original_accuracy = accuracy_score(y_test, y_pred)\n",
        "print(\"Accuracy on Original Dataset:\", original_accuracy)\n",
        "\n",
        "# Split the updated data into training and testing sets\n",
        "Xu_train, Xu_test, Yu_train, Yu_test = train_test_split(X_updated, y, test_size=0.3, random_state=42)\n",
        "\n",
        "# Train the model on the updated dataset\n",
        "model.fit(Xu_train, Yu_train)\n",
        "\n",
        "# Make predictions and calculate accuracy on the updated dataset\n",
        "yu_pred = model.predict(Xu_test)\n",
        "updated_accuracy = accuracy_score(Yu_test, yu_pred)\n",
        "print(\"Accuracy on Updated Dataset:\", updated_accuracy)"
      ]
    },
    {
      "cell_type": "code",
      "source": [
        "from google.colab import drive\n",
        "drive.mount('/content/drive')"
      ],
      "metadata": {
        "id": "nA5Misfu7Lns"
      },
      "execution_count": null,
      "outputs": []
    }
  ]
}